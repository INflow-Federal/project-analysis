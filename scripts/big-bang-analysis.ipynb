{
 "cells": [
  {
   "cell_type": "code",
   "execution_count": 70,
   "id": "c353c4a0",
   "metadata": {},
   "outputs": [
    {
     "name": "stdout",
     "output_type": "stream",
     "text": [
      "Requirement already satisfied: python-dateutil in /Users/ryanmalani/miniforge3/envs/INflow/lib/python3.8/site-packages (2.8.2)\r\n",
      "Requirement already satisfied: six>=1.5 in /Users/ryanmalani/miniforge3/envs/INflow/lib/python3.8/site-packages (from python-dateutil) (1.16.0)\r\n"
     ]
    }
   ],
   "source": [
    "!pip install python-dateutil\n",
    "!pip install pandas\n",
    "!pip install GitPython"
   ]
  },
  {
   "cell_type": "code",
   "execution_count": 73,
   "id": "20251017",
   "metadata": {},
   "outputs": [],
   "source": [
    "# getting all of the imports out of the way\n",
    "\n",
    "import pandas as pd\n",
    "import git\n",
    "from io import StringIO\n",
    "from dateutil.parser import parse"
   ]
  },
  {
   "cell_type": "code",
   "execution_count": 84,
   "id": "9b0ce204",
   "metadata": {},
   "outputs": [
    {
     "data": {
      "text/html": [
       "<div>\n",
       "<style scoped>\n",
       "    .dataframe tbody tr th:only-of-type {\n",
       "        vertical-align: middle;\n",
       "    }\n",
       "\n",
       "    .dataframe tbody tr th {\n",
       "        vertical-align: top;\n",
       "    }\n",
       "\n",
       "    .dataframe thead th {\n",
       "        text-align: right;\n",
       "    }\n",
       "</style>\n",
       "<table border=\"1\" class=\"dataframe\">\n",
       "  <thead>\n",
       "    <tr style=\"text-align: right;\">\n",
       "      <th></th>\n",
       "      <th>raw</th>\n",
       "    </tr>\n",
       "  </thead>\n",
       "  <tbody>\n",
       "    <tr>\n",
       "      <th>0</th>\n",
       "      <td>4c2a531567007909429bbe6840f69556c1b83772</td>\n",
       "    </tr>\n",
       "    <tr>\n",
       "      <th>1</th>\n",
       "      <td>488f89f27d38579be9fe1f6be677ba3e96b95f73</td>\n",
       "    </tr>\n",
       "    <tr>\n",
       "      <th>2</th>\n",
       "      <td>4989e8adf01ecd40016362e424b279c5e9b704d4</td>\n",
       "    </tr>\n",
       "    <tr>\n",
       "      <th>3</th>\n",
       "      <td>d8d05afdb8f43af607a30cf55475a35bbe9b65f3</td>\n",
       "    </tr>\n",
       "    <tr>\n",
       "      <th>4</th>\n",
       "      <td>11b3b19854f664968dcf58aac56079d123533a96</td>\n",
       "    </tr>\n",
       "  </tbody>\n",
       "</table>\n",
       "</div>"
      ],
      "text/plain": [
       "                                        raw\n",
       "0  4c2a531567007909429bbe6840f69556c1b83772\n",
       "1  488f89f27d38579be9fe1f6be677ba3e96b95f73\n",
       "2  4989e8adf01ecd40016362e424b279c5e9b704d4\n",
       "3  d8d05afdb8f43af607a30cf55475a35bbe9b65f3\n",
       "4  11b3b19854f664968dcf58aac56079d123533a96"
      ]
     },
     "execution_count": 84,
     "metadata": {},
     "output_type": "execute_result"
    }
   ],
   "source": [
    "# alternative way to get all of the commit information potentially:\n",
    "\n",
    "repo = git.Repo(GIT_REPO_PATH, odbt=git.GitCmdObjectDB)\n",
    "\n",
    "repo\n",
    "\n",
    "commits = pd.DataFrame(repo.iter_commits('master'), columns=['raw'])\n",
    "commits.head()"
   ]
  },
  {
   "cell_type": "code",
   "execution_count": 94,
   "id": "8b70ed35",
   "metadata": {},
   "outputs": [
    {
     "data": {
      "text/plain": [
       "('tree',\n",
       " 'author',\n",
       " 'authored_date',\n",
       " 'author_tz_offset',\n",
       " 'committer',\n",
       " 'committed_date',\n",
       " 'committer_tz_offset',\n",
       " 'message',\n",
       " 'parents',\n",
       " 'encoding',\n",
       " 'gpgsig')"
      ]
     },
     "execution_count": 94,
     "metadata": {},
     "output_type": "execute_result"
    }
   ],
   "source": [
    "last_commit = commits.iloc[0]\n",
    "\n",
    "last_commit['raw'].__slots__"
   ]
  },
  {
   "cell_type": "code",
   "execution_count": 112,
   "id": "93076d09",
   "metadata": {},
   "outputs": [],
   "source": [
    "commits['author'] = commits['raw'].apply(lambda x: x.author.name)\n",
    "commits['authored_date'] = commits['raw'].apply(lambda x: pd.to_datetime(x.committed_date))\n",
    "commits['message'] = commits['raw'].apply(lambda x: x.message)\n",
    "commits['parents'] = commits['raw'].apply(lambda x: x.parents)\n",
    "commits['committer'] = commits['raw'].apply(lambda x: x.committer)"
   ]
  },
  {
   "cell_type": "code",
   "execution_count": 113,
   "id": "0b8b07ef",
   "metadata": {},
   "outputs": [
    {
     "data": {
      "text/html": [
       "<div>\n",
       "<style scoped>\n",
       "    .dataframe tbody tr th:only-of-type {\n",
       "        vertical-align: middle;\n",
       "    }\n",
       "\n",
       "    .dataframe tbody tr th {\n",
       "        vertical-align: top;\n",
       "    }\n",
       "\n",
       "    .dataframe thead th {\n",
       "        text-align: right;\n",
       "    }\n",
       "</style>\n",
       "<table border=\"1\" class=\"dataframe\">\n",
       "  <thead>\n",
       "    <tr style=\"text-align: right;\">\n",
       "      <th></th>\n",
       "      <th>raw</th>\n",
       "      <th>author</th>\n",
       "      <th>authored_date</th>\n",
       "      <th>message</th>\n",
       "      <th>parents</th>\n",
       "      <th>committer</th>\n",
       "    </tr>\n",
       "  </thead>\n",
       "  <tbody>\n",
       "    <tr>\n",
       "      <th>0</th>\n",
       "      <td>4c2a531567007909429bbe6840f69556c1b83772</td>\n",
       "      <td>Ryan Garcia</td>\n",
       "      <td>1970-01-01 00:00:01.678830580</td>\n",
       "      <td>Merge branch 'enable-mtls-for-neuvector-metric...</td>\n",
       "      <td>(4989e8adf01ecd40016362e424b279c5e9b704d4, 488...</td>\n",
       "      <td>Ryan Garcia</td>\n",
       "    </tr>\n",
       "    <tr>\n",
       "      <th>1</th>\n",
       "      <td>488f89f27d38579be9fe1f6be677ba3e96b95f73</td>\n",
       "      <td>Brett Charrier</td>\n",
       "      <td>1970-01-01 00:00:01.678830580</td>\n",
       "      <td>Enable mTLS for Neuvector metrics\\n</td>\n",
       "      <td>(b7c7731260cb9993c8b437103e5e4f526bf70296,)</td>\n",
       "      <td>Ryan Garcia</td>\n",
       "    </tr>\n",
       "    <tr>\n",
       "      <th>2</th>\n",
       "      <td>4989e8adf01ecd40016362e424b279c5e9b704d4</td>\n",
       "      <td>Micah Nagel</td>\n",
       "      <td>1970-01-01 00:00:01.678816375</td>\n",
       "      <td>Merge branch 'update-kyverno-policies-tag-1.1....</td>\n",
       "      <td>(11b3b19854f664968dcf58aac56079d123533a96, d8d...</td>\n",
       "      <td>Micah Nagel</td>\n",
       "    </tr>\n",
       "    <tr>\n",
       "      <th>3</th>\n",
       "      <td>d8d05afdb8f43af607a30cf55475a35bbe9b65f3</td>\n",
       "      <td>mr-bot</td>\n",
       "      <td>1970-01-01 00:00:01.678816375</td>\n",
       "      <td>kyverno-policies update to 1.1.0-bb.3\\n</td>\n",
       "      <td>(ddd6e3eb73cec0bddee1ee224501e2f12cb35b08,)</td>\n",
       "      <td>Micah Nagel</td>\n",
       "    </tr>\n",
       "    <tr>\n",
       "      <th>4</th>\n",
       "      <td>11b3b19854f664968dcf58aac56079d123533a96</td>\n",
       "      <td>Micah Nagel</td>\n",
       "      <td>1970-01-01 00:00:01.678816352</td>\n",
       "      <td>Merge branch 'update-kyverno-tag-2.6.5-bb.3' i...</td>\n",
       "      <td>(15c82732e41ae61799da95dacfda9f826d8bb755, 5de...</td>\n",
       "      <td>Micah Nagel</td>\n",
       "    </tr>\n",
       "  </tbody>\n",
       "</table>\n",
       "</div>"
      ],
      "text/plain": [
       "                                        raw          author  \\\n",
       "0  4c2a531567007909429bbe6840f69556c1b83772     Ryan Garcia   \n",
       "1  488f89f27d38579be9fe1f6be677ba3e96b95f73  Brett Charrier   \n",
       "2  4989e8adf01ecd40016362e424b279c5e9b704d4     Micah Nagel   \n",
       "3  d8d05afdb8f43af607a30cf55475a35bbe9b65f3          mr-bot   \n",
       "4  11b3b19854f664968dcf58aac56079d123533a96     Micah Nagel   \n",
       "\n",
       "                  authored_date  \\\n",
       "0 1970-01-01 00:00:01.678830580   \n",
       "1 1970-01-01 00:00:01.678830580   \n",
       "2 1970-01-01 00:00:01.678816375   \n",
       "3 1970-01-01 00:00:01.678816375   \n",
       "4 1970-01-01 00:00:01.678816352   \n",
       "\n",
       "                                             message  \\\n",
       "0  Merge branch 'enable-mtls-for-neuvector-metric...   \n",
       "1                Enable mTLS for Neuvector metrics\\n   \n",
       "2  Merge branch 'update-kyverno-policies-tag-1.1....   \n",
       "3            kyverno-policies update to 1.1.0-bb.3\\n   \n",
       "4  Merge branch 'update-kyverno-tag-2.6.5-bb.3' i...   \n",
       "\n",
       "                                             parents    committer  \n",
       "0  (4989e8adf01ecd40016362e424b279c5e9b704d4, 488...  Ryan Garcia  \n",
       "1        (b7c7731260cb9993c8b437103e5e4f526bf70296,)  Ryan Garcia  \n",
       "2  (11b3b19854f664968dcf58aac56079d123533a96, d8d...  Micah Nagel  \n",
       "3        (ddd6e3eb73cec0bddee1ee224501e2f12cb35b08,)  Micah Nagel  \n",
       "4  (15c82732e41ae61799da95dacfda9f826d8bb755, 5de...  Micah Nagel  "
      ]
     },
     "execution_count": 113,
     "metadata": {},
     "output_type": "execute_result"
    }
   ],
   "source": [
    "commits.head()"
   ]
  },
  {
   "cell_type": "code",
   "execution_count": null,
   "id": "a26c7484",
   "metadata": {},
   "outputs": [],
   "source": []
  }
 ],
 "metadata": {
  "kernelspec": {
   "display_name": "Python 3 (ipykernel)",
   "language": "python",
   "name": "python3"
  },
  "language_info": {
   "codemirror_mode": {
    "name": "ipython",
    "version": 3
   },
   "file_extension": ".py",
   "mimetype": "text/x-python",
   "name": "python",
   "nbconvert_exporter": "python",
   "pygments_lexer": "ipython3",
   "version": "3.8.15"
  }
 },
 "nbformat": 4,
 "nbformat_minor": 5
}
