{
 "cells": [
  {
   "cell_type": "code",
   "execution_count": 1,
   "id": "986b3067",
   "metadata": {},
   "outputs": [
    {
     "name": "stdout",
     "output_type": "stream",
     "text": [
      "Requirement already satisfied: python-dateutil in /Users/ryanmalani/miniforge3/envs/INflow/lib/python3.8/site-packages (2.8.2)\n",
      "Requirement already satisfied: six>=1.5 in /Users/ryanmalani/miniforge3/envs/INflow/lib/python3.8/site-packages (from python-dateutil) (1.16.0)\n",
      "Requirement already satisfied: pandas in /Users/ryanmalani/miniforge3/envs/INflow/lib/python3.8/site-packages (1.5.3)\n",
      "Requirement already satisfied: python-dateutil>=2.8.1 in /Users/ryanmalani/miniforge3/envs/INflow/lib/python3.8/site-packages (from pandas) (2.8.2)\n",
      "Requirement already satisfied: pytz>=2020.1 in /Users/ryanmalani/miniforge3/envs/INflow/lib/python3.8/site-packages (from pandas) (2022.7.1)\n",
      "Requirement already satisfied: numpy>=1.20.3 in /Users/ryanmalani/miniforge3/envs/INflow/lib/python3.8/site-packages (from pandas) (1.23.2)\n",
      "Requirement already satisfied: six>=1.5 in /Users/ryanmalani/miniforge3/envs/INflow/lib/python3.8/site-packages (from python-dateutil>=2.8.1->pandas) (1.16.0)\n",
      "Requirement already satisfied: GitPython in /Users/ryanmalani/miniforge3/envs/INflow/lib/python3.8/site-packages (3.1.31)\n",
      "Requirement already satisfied: gitdb<5,>=4.0.1 in /Users/ryanmalani/miniforge3/envs/INflow/lib/python3.8/site-packages (from GitPython) (4.0.10)\n",
      "Requirement already satisfied: smmap<6,>=3.0.1 in /Users/ryanmalani/miniforge3/envs/INflow/lib/python3.8/site-packages (from gitdb<5,>=4.0.1->GitPython) (5.0.0)\n"
     ]
    }
   ],
   "source": [
    "!pip install python-dateutil\n",
    "!pip install pandas\n",
    "!pip install GitPython"
   ]
  },
  {
   "cell_type": "code",
   "execution_count": 2,
   "id": "293bc191",
   "metadata": {},
   "outputs": [],
   "source": [
    "# getting all of the imports out of the way\n",
    "\n",
    "import pandas as pd\n",
    "import git\n",
    "from io import StringIO\n",
    "from dateutil.parser import parse"
   ]
  },
  {
   "cell_type": "code",
   "execution_count": 4,
   "id": "05663066",
   "metadata": {},
   "outputs": [
    {
     "data": {
      "text/html": [
       "<div>\n",
       "<style scoped>\n",
       "    .dataframe tbody tr th:only-of-type {\n",
       "        vertical-align: middle;\n",
       "    }\n",
       "\n",
       "    .dataframe tbody tr th {\n",
       "        vertical-align: top;\n",
       "    }\n",
       "\n",
       "    .dataframe thead th {\n",
       "        text-align: right;\n",
       "    }\n",
       "</style>\n",
       "<table border=\"1\" class=\"dataframe\">\n",
       "  <thead>\n",
       "    <tr style=\"text-align: right;\">\n",
       "      <th></th>\n",
       "      <th>raw</th>\n",
       "    </tr>\n",
       "  </thead>\n",
       "  <tbody>\n",
       "    <tr>\n",
       "      <th>0</th>\n",
       "      <td>4c2a531567007909429bbe6840f69556c1b83772</td>\n",
       "    </tr>\n",
       "    <tr>\n",
       "      <th>1</th>\n",
       "      <td>488f89f27d38579be9fe1f6be677ba3e96b95f73</td>\n",
       "    </tr>\n",
       "    <tr>\n",
       "      <th>2</th>\n",
       "      <td>4989e8adf01ecd40016362e424b279c5e9b704d4</td>\n",
       "    </tr>\n",
       "    <tr>\n",
       "      <th>3</th>\n",
       "      <td>d8d05afdb8f43af607a30cf55475a35bbe9b65f3</td>\n",
       "    </tr>\n",
       "    <tr>\n",
       "      <th>4</th>\n",
       "      <td>11b3b19854f664968dcf58aac56079d123533a96</td>\n",
       "    </tr>\n",
       "  </tbody>\n",
       "</table>\n",
       "</div>"
      ],
      "text/plain": [
       "                                        raw\n",
       "0  4c2a531567007909429bbe6840f69556c1b83772\n",
       "1  488f89f27d38579be9fe1f6be677ba3e96b95f73\n",
       "2  4989e8adf01ecd40016362e424b279c5e9b704d4\n",
       "3  d8d05afdb8f43af607a30cf55475a35bbe9b65f3\n",
       "4  11b3b19854f664968dcf58aac56079d123533a96"
      ]
     },
     "execution_count": 4,
     "metadata": {},
     "output_type": "execute_result"
    }
   ],
   "source": [
    "# alternative way to get all of the commit information potentially:\n",
    "\n",
    "GIT_REPO_PATH = r'../repositories/big-bang'\n",
    "\n",
    "repo = git.Repo(GIT_REPO_PATH, odbt=git.GitCmdObjectDB)\n",
    "\n",
    "repo\n",
    "\n",
    "commits = pd.DataFrame(repo.iter_commits('master'), columns=['raw'])\n",
    "commits.head()"
   ]
  },
  {
   "cell_type": "code",
   "execution_count": 5,
   "id": "8c0de09e",
   "metadata": {},
   "outputs": [
    {
     "data": {
      "text/plain": [
       "('tree',\n",
       " 'author',\n",
       " 'authored_date',\n",
       " 'author_tz_offset',\n",
       " 'committer',\n",
       " 'committed_date',\n",
       " 'committer_tz_offset',\n",
       " 'message',\n",
       " 'parents',\n",
       " 'encoding',\n",
       " 'gpgsig')"
      ]
     },
     "execution_count": 5,
     "metadata": {},
     "output_type": "execute_result"
    }
   ],
   "source": [
    "last_commit = commits.iloc[0]\n",
    "\n",
    "last_commit['raw'].__slots__"
   ]
  },
  {
   "cell_type": "code",
   "execution_count": 7,
   "id": "ce2b1b71",
   "metadata": {},
   "outputs": [],
   "source": [
    "commits['author'] = commits['raw'].apply(lambda x: x.author.name)\n",
    "commits['committed_date'] = commits['raw'].apply(lambda x: pd.to_datetime(x.committed_datetime))\n",
    "commits['message'] = commits['raw'].apply(lambda x: x.message)\n",
    "commits['parents'] = commits['raw'].apply(lambda x: x.parents)\n",
    "commits['committer'] = commits['raw'].apply(lambda x: x.committer)"
   ]
  },
  {
   "cell_type": "code",
   "execution_count": 8,
   "id": "97f23854",
   "metadata": {},
   "outputs": [
    {
     "data": {
      "text/html": [
       "<div>\n",
       "<style scoped>\n",
       "    .dataframe tbody tr th:only-of-type {\n",
       "        vertical-align: middle;\n",
       "    }\n",
       "\n",
       "    .dataframe tbody tr th {\n",
       "        vertical-align: top;\n",
       "    }\n",
       "\n",
       "    .dataframe thead th {\n",
       "        text-align: right;\n",
       "    }\n",
       "</style>\n",
       "<table border=\"1\" class=\"dataframe\">\n",
       "  <thead>\n",
       "    <tr style=\"text-align: right;\">\n",
       "      <th></th>\n",
       "      <th>raw</th>\n",
       "      <th>author</th>\n",
       "      <th>committed_date</th>\n",
       "      <th>message</th>\n",
       "      <th>parents</th>\n",
       "      <th>committer</th>\n",
       "    </tr>\n",
       "  </thead>\n",
       "  <tbody>\n",
       "    <tr>\n",
       "      <th>0</th>\n",
       "      <td>4c2a531567007909429bbe6840f69556c1b83772</td>\n",
       "      <td>Ryan Garcia</td>\n",
       "      <td>2023-03-14 21:49:40+00:00</td>\n",
       "      <td>Merge branch 'enable-mtls-for-neuvector-metric...</td>\n",
       "      <td>(4989e8adf01ecd40016362e424b279c5e9b704d4, 488...</td>\n",
       "      <td>Ryan Garcia</td>\n",
       "    </tr>\n",
       "    <tr>\n",
       "      <th>1</th>\n",
       "      <td>488f89f27d38579be9fe1f6be677ba3e96b95f73</td>\n",
       "      <td>Brett Charrier</td>\n",
       "      <td>2023-03-14 21:49:40+00:00</td>\n",
       "      <td>Enable mTLS for Neuvector metrics\\n</td>\n",
       "      <td>(b7c7731260cb9993c8b437103e5e4f526bf70296,)</td>\n",
       "      <td>Ryan Garcia</td>\n",
       "    </tr>\n",
       "    <tr>\n",
       "      <th>2</th>\n",
       "      <td>4989e8adf01ecd40016362e424b279c5e9b704d4</td>\n",
       "      <td>Micah Nagel</td>\n",
       "      <td>2023-03-14 17:52:55+00:00</td>\n",
       "      <td>Merge branch 'update-kyverno-policies-tag-1.1....</td>\n",
       "      <td>(11b3b19854f664968dcf58aac56079d123533a96, d8d...</td>\n",
       "      <td>Micah Nagel</td>\n",
       "    </tr>\n",
       "    <tr>\n",
       "      <th>3</th>\n",
       "      <td>d8d05afdb8f43af607a30cf55475a35bbe9b65f3</td>\n",
       "      <td>mr-bot</td>\n",
       "      <td>2023-03-14 17:52:55+00:00</td>\n",
       "      <td>kyverno-policies update to 1.1.0-bb.3\\n</td>\n",
       "      <td>(ddd6e3eb73cec0bddee1ee224501e2f12cb35b08,)</td>\n",
       "      <td>Micah Nagel</td>\n",
       "    </tr>\n",
       "    <tr>\n",
       "      <th>4</th>\n",
       "      <td>11b3b19854f664968dcf58aac56079d123533a96</td>\n",
       "      <td>Micah Nagel</td>\n",
       "      <td>2023-03-14 17:52:32+00:00</td>\n",
       "      <td>Merge branch 'update-kyverno-tag-2.6.5-bb.3' i...</td>\n",
       "      <td>(15c82732e41ae61799da95dacfda9f826d8bb755, 5de...</td>\n",
       "      <td>Micah Nagel</td>\n",
       "    </tr>\n",
       "  </tbody>\n",
       "</table>\n",
       "</div>"
      ],
      "text/plain": [
       "                                        raw          author  \\\n",
       "0  4c2a531567007909429bbe6840f69556c1b83772     Ryan Garcia   \n",
       "1  488f89f27d38579be9fe1f6be677ba3e96b95f73  Brett Charrier   \n",
       "2  4989e8adf01ecd40016362e424b279c5e9b704d4     Micah Nagel   \n",
       "3  d8d05afdb8f43af607a30cf55475a35bbe9b65f3          mr-bot   \n",
       "4  11b3b19854f664968dcf58aac56079d123533a96     Micah Nagel   \n",
       "\n",
       "              committed_date  \\\n",
       "0  2023-03-14 21:49:40+00:00   \n",
       "1  2023-03-14 21:49:40+00:00   \n",
       "2  2023-03-14 17:52:55+00:00   \n",
       "3  2023-03-14 17:52:55+00:00   \n",
       "4  2023-03-14 17:52:32+00:00   \n",
       "\n",
       "                                             message  \\\n",
       "0  Merge branch 'enable-mtls-for-neuvector-metric...   \n",
       "1                Enable mTLS for Neuvector metrics\\n   \n",
       "2  Merge branch 'update-kyverno-policies-tag-1.1....   \n",
       "3            kyverno-policies update to 1.1.0-bb.3\\n   \n",
       "4  Merge branch 'update-kyverno-tag-2.6.5-bb.3' i...   \n",
       "\n",
       "                                             parents    committer  \n",
       "0  (4989e8adf01ecd40016362e424b279c5e9b704d4, 488...  Ryan Garcia  \n",
       "1        (b7c7731260cb9993c8b437103e5e4f526bf70296,)  Ryan Garcia  \n",
       "2  (11b3b19854f664968dcf58aac56079d123533a96, d8d...  Micah Nagel  \n",
       "3        (ddd6e3eb73cec0bddee1ee224501e2f12cb35b08,)  Micah Nagel  \n",
       "4  (15c82732e41ae61799da95dacfda9f826d8bb755, 5de...  Micah Nagel  "
      ]
     },
     "execution_count": 8,
     "metadata": {},
     "output_type": "execute_result"
    }
   ],
   "source": [
    "commits.head()"
   ]
  },
  {
   "cell_type": "code",
   "execution_count": null,
   "id": "4d92500e",
   "metadata": {},
   "outputs": [],
   "source": []
  }
 ],
 "metadata": {
  "kernelspec": {
   "display_name": "Python 3 (ipykernel)",
   "language": "python",
   "name": "python3"
  },
  "language_info": {
   "codemirror_mode": {
    "name": "ipython",
    "version": 3
   },
   "file_extension": ".py",
   "mimetype": "text/x-python",
   "name": "python",
   "nbconvert_exporter": "python",
   "pygments_lexer": "ipython3",
   "version": "3.8.15"
  }
 },
 "nbformat": 4,
 "nbformat_minor": 5
}
